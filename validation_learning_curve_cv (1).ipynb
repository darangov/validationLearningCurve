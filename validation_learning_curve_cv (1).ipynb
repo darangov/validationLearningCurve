{
 "cells": [
  {
   "cell_type": "markdown",
   "metadata": {
    "colab_type": "text",
    "id": "H9UpIEzQycIX"
   },
   "source": [
    "# Taller de curvas de validación y aprendizaje con validación cruzada\n",
    "\n",
    "En este cuaderno vamos a trabajar con curvas de validación y observar su utilidad en el desarrollo de los modelos.\n"
   ]
  },
  {
   "cell_type": "code",
   "execution_count": 7,
   "metadata": {
    "colab": {
     "autoexec": {
      "startup": false,
      "wait_interval": 0
     }
    },
    "colab_type": "code",
    "id": "i-tFNzjdwhyn"
   },
   "outputs": [],
   "source": [
    "import numpy as np\n",
    "import matplotlib.pyplot as plt\n",
    "\n",
    "from sklearn.datasets import load_breast_cancer\n",
    "from sklearn.model_selection import train_test_split, cross_val_score\n",
    "from sklearn.model_selection import validation_curve, learning_curve\n",
    "from sklearn.metrics import f1_score, accuracy_score\n",
    "from sklearn.linear_model import LogisticRegression\n",
    "from sklearn.tree import DecisionTreeClassifier\n",
    "\n",
    "import time"
   ]
  },
  {
   "cell_type": "code",
   "execution_count": 8,
   "metadata": {
    "colab": {
     "autoexec": {
      "startup": false,
      "wait_interval": 0
     }
    },
    "colab_type": "code",
    "id": "gPY3LLSn1XNE"
   },
   "outputs": [],
   "source": [
    "plt.rc('font', family='serif')\n",
    "%matplotlib inline"
   ]
  },
  {
   "cell_type": "code",
   "execution_count": 9,
   "metadata": {
    "colab": {
     "autoexec": {
      "startup": false,
      "wait_interval": 0
     }
    },
    "colab_type": "code",
    "id": "DKTApT8azR0U"
   },
   "outputs": [],
   "source": [
    "X, y = load_breast_cancer(return_X_y=True)"
   ]
  },
  {
   "cell_type": "code",
   "execution_count": 10,
   "metadata": {
    "colab": {
     "autoexec": {
      "startup": false,
      "wait_interval": 0
     }
    },
    "colab_type": "code",
    "id": "NUsIV5UtPNbZ"
   },
   "outputs": [],
   "source": [
    "test_size=0.25\n",
    "X_train, X_test, y_train, y_test = train_test_split(X, y, test_size=test_size)"
   ]
  },
  {
   "cell_type": "markdown",
   "metadata": {
    "colab_type": "text",
    "id": "SD51X1qed13-"
   },
   "source": [
    "Ahora que tenemos nuestro conjunto de datos separado en entrenamiento y prueba, podemos explorar las curvas de validación y aprendizaje de los diferentes modelos.\n",
    "\n",
    "**Ejercicio 1:** calcula el rendimiento de un [árbol de decisión](http://scikit-learn.org/stable/modules/generated/sklearn.tree.DecisionTreeClassifier.html#sklearn.tree.DecisionTreeClassifier) con máxima profundidad 4 utilizando [cross_val_score](http://scikit-learn.org/stable/modules/generated/sklearn.model_selection.cross_val_score.html#sklearn.model_selection.cross_val_score) y utilizando la métrica que consideres apropiada de [esta lista de métricas](http://scikit-learn.org/stable/modules/model_evaluation.html). Como has podido notar, hay muchas más métricas de las vistas en clase, lo importante no es saberlas todas, lo importante es que las revises cada vez que tengas un problema y mires cuál se ajusta mejor a tus necesidades; más aún, espero que entiendas que no todo se puede cubrir en un mismo curso, tienes la responsabilidad de seguir explorando las posibilidades."
   ]
  },
  {
   "cell_type": "code",
   "execution_count": 12,
   "metadata": {
    "colab": {
     "autoexec": {
      "startup": false,
      "wait_interval": 0
     },
     "base_uri": "https://localhost:8080/",
     "height": 34
    },
    "colab_type": "code",
    "executionInfo": {
     "elapsed": 428,
     "status": "ok",
     "timestamp": 1527437536351,
     "user": {
      "displayName": "Sebastian Rodriguez Colina",
      "photoUrl": "//lh5.googleusercontent.com/-_sHw6yK6Xvg/AAAAAAAAAAI/AAAAAAAAAA4/_iHz8kp4O30/s50-c-k-no/photo.jpg",
      "userId": "118196225350065253664"
     },
     "user_tz": 300
    },
    "id": "vTH2-Cqh1GNW",
    "outputId": "09fa6bb7-366e-44b3-a6e5-edf149e8af76"
   },
   "outputs": [
    {
     "ename": "TypeError",
     "evalue": "unsupported operand type(s) for -: 'builtin_function_or_method' and 'float'",
     "output_type": "error",
     "traceback": [
      "\u001b[0;31m---------------------------------------------------------------------------\u001b[0m",
      "\u001b[0;31mTypeError\u001b[0m                                 Traceback (most recent call last)",
      "\u001b[0;32m<ipython-input-12-d79911c29b4a>\u001b[0m in \u001b[0;36m<module>\u001b[0;34m()\u001b[0m\n\u001b[1;32m     14\u001b[0m     \u001b[0mn_jobs\u001b[0m\u001b[0;34m=\u001b[0m\u001b[0;36m1\u001b[0m \u001b[0;31m# numero procesos paralelos\u001b[0m\u001b[0;34m\u001b[0m\u001b[0m\n\u001b[1;32m     15\u001b[0m )\n\u001b[0;32m---> 16\u001b[0;31m \u001b[0melapsed_time\u001b[0m \u001b[0;34m=\u001b[0m \u001b[0mtime\u001b[0m\u001b[0;34m.\u001b[0m\u001b[0mprocess_time\u001b[0m \u001b[0;34m-\u001b[0m \u001b[0mt\u001b[0m\u001b[0;34m\u001b[0m\u001b[0m\n\u001b[0m\u001b[1;32m     17\u001b[0m \u001b[0;34m\u001b[0m\u001b[0m\n\u001b[1;32m     18\u001b[0m \u001b[0;31m# calcula el promedio de los rendimientos\u001b[0m\u001b[0;34m\u001b[0m\u001b[0;34m\u001b[0m\u001b[0m\n",
      "\u001b[0;31mTypeError\u001b[0m: unsupported operand type(s) for -: 'builtin_function_or_method' and 'float'"
     ]
    }
   ],
   "source": [
    "# crea el objeto de la clase DecisionTreeClassifier\n",
    "clf = DecisionTreeClassifier(max_depth = 4)\n",
    "\n",
    "\n",
    "# calcula el rendimiento usando la métrica apropiada usando\n",
    "# valdación cruzada\n",
    "t = time.process_time()\n",
    "\n",
    "scores = cross_val_score(\n",
    "    clf,\n",
    "    X_train,\n",
    "    y_train,\n",
    "    scoring='f1',\n",
    "    cv=10, # cv: en cuantas partes va a partir el set de entrenamiento poara hacer validacion cruzada\n",
    "    n_jobs=1 # numero procesos paralelos\n",
    ")\n",
    "elapsed_time = time.process_time - t\n",
    "\n",
    "# calcula el promedio de los rendimientos \n",
    "mean_score = np.mean(scores)\n",
    "# calcula la desviasión estándar de los rendomientos\n",
    "std = np.std(scores)\n",
    "\n",
    "msg = \"The cross validation score is {:.2f} +/- {:.4f}\"\n",
    "print(msg.format(mean_score, std))"
   ]
  },
  {
   "cell_type": "markdown",
   "metadata": {
    "colab_type": "text",
    "id": "roMTv_PFfCef"
   },
   "source": [
    "Anteriormente hicimos una curva de validación usando los datos de entrenamiento y validación que estaban separados. La librería nos permite hacer lo mismo usando validación cruzada. \n",
    "\n",
    "**Ejercicio 2:**  grafica la curva de validación para distintos valores de máxima profundidad de árbol de decisión. Como siempre, revisa la descripción de la función: [validation_curve](http://scikit-learn.org/stable/modules/generated/sklearn.model_selection.validation_curve.html)"
   ]
  },
  {
   "cell_type": "code",
   "execution_count": 13,
   "metadata": {
    "colab": {
     "autoexec": {
      "startup": false,
      "wait_interval": 0
     },
     "base_uri": "https://localhost:8080/",
     "height": 350
    },
    "colab_type": "code",
    "executionInfo": {
     "elapsed": 887,
     "status": "ok",
     "timestamp": 1527442013327,
     "user": {
      "displayName": "Sebastian Rodriguez Colina",
      "photoUrl": "//lh5.googleusercontent.com/-_sHw6yK6Xvg/AAAAAAAAAAI/AAAAAAAAAA4/_iHz8kp4O30/s50-c-k-no/photo.jpg",
      "userId": "118196225350065253664"
     },
     "user_tz": 300
    },
    "id": "PAYM0OcF-vuY",
    "outputId": "74d537b9-2164-4281-8938-6bfaa0486b4c"
   },
   "outputs": [
    {
     "data": {
      "text/plain": [
       "<matplotlib.legend.Legend at 0x7fd0f8962358>"
      ]
     },
     "execution_count": 13,
     "metadata": {},
     "output_type": "execute_result"
    },
    {
     "data": {
      "image/png": "[encoded data removed]",
      "text/plain": [
       "<Figure size 504x360 with 1 Axes>"
      ]
     },
     "metadata": {
      "needs_background": "light"
     },
     "output_type": "display_data"
    }
   ],
   "source": [
    "# crea un objeto de la clase DecisionTreeClassifier\n",
    "#similar al anterior pero varia parametro\n",
    "\n",
    "clf = DecisionTreeClassifier()\n",
    "\n",
    "# set the name (a str) of the hyperparameter you want to vary\n",
    "param_name = 'max_depth'\n",
    "\n",
    "# set the parameter values for the hyperparameters\n",
    "param_range = (2,4,8,16,32)\n",
    "\n",
    "\n",
    "train_scores, val_scores = validation_curve(\n",
    "    clf,\n",
    "    X_train,\n",
    "    y_train,\n",
    "    param_name=param_name,\n",
    "    param_range=param_range,\n",
    "    cv=10,\n",
    "    scoring='f1',\n",
    "    n_jobs=1\n",
    ")\n",
    "\n",
    "# compute the mean of train and val scores across different values\n",
    "# for the hyperparameter\n",
    "mean_train_scores = np.mean(train_scores, axis = 1)\n",
    "mean_val_scores = np.mean(val_scores, axis = 1)\n",
    "\n",
    "# compute the standard deviation of train and val scores across\n",
    "# different values for the hyperparameter\n",
    "std_train_scores = np.std(train_scores, axis = 1)\n",
    "std_val_scores = np.std(val_scores, axis = 1)\n",
    "\n",
    "\n",
    "fig = plt.figure(figsize=(7,5))\n",
    "ax = fig.add_subplot(111)\n",
    "\n",
    "ax.plot(\n",
    "    param_range, mean_train_scores, color='blue',\n",
    "    marker='o', linestyle='-', markersize=5, \n",
    "    label='Training data'\n",
    ")\n",
    "\n",
    "ax.fill_between(\n",
    "    param_range, mean_train_scores + std_train_scores,\n",
    "    mean_train_scores - std_train_scores, alpha=0.25,\n",
    "    color='blue'\n",
    ")\n",
    "\n",
    "ax.plot(\n",
    "    param_range, mean_val_scores, color='green',\n",
    "    marker='s', linestyle='--', markersize=5, \n",
    "    label='Validation data'\n",
    ")\n",
    "\n",
    "ax.fill_between(\n",
    "    param_range, mean_val_scores + std_val_scores,\n",
    "    mean_val_scores - std_val_scores, alpha=0.25,\n",
    "    color='green'\n",
    ")\n",
    "\n",
    "ax.set_xlabel('Max depth of tree')\n",
    "ax.set_ylabel('F1 score')\n",
    "\n",
    "min_train_scores = np.min(train_scores)\n",
    "min_val_scores = np.min(val_scores)\n",
    "\n",
    "ax.set_ylim(min(min_train_scores, min_val_scores) - 0.01, 1.01)\n",
    "ax.grid(linestyle='--')\n",
    "ax.legend(loc='lower right')\n",
    "\n",
    "# con el parametro = 2 seria el mejor modelo ya que no esta tansobreajustado\n",
    "# a mayor profundidad del arbol, el modelo tiende a sobreajustarse"
   ]
  },
  {
   "cell_type": "markdown",
   "metadata": {
    "colab_type": "text",
    "id": "alWqPt7kjsez"
   },
   "source": [
    "**Ejercicio 3:** realiza una curva de aprendizaje para para el árbol de decisión. Consulta la documentación de [learning_curve](http://scikit-learn.org/stable/modules/generated/sklearn.model_selection.learning_curve.html#sklearn.model_selection.learning_curve)"
   ]
  },
  {
   "cell_type": "code",
   "execution_count": 0,
   "metadata": {
    "colab": {
     "autoexec": {
      "startup": false,
      "wait_interval": 0
     },
     "base_uri": "https://localhost:8080/",
     "height": 350
    },
    "colab_type": "code",
    "executionInfo": {
     "elapsed": 1065,
     "status": "ok",
     "timestamp": 1527442001659,
     "user": {
      "displayName": "Sebastian Rodriguez Colina",
      "photoUrl": "//lh5.googleusercontent.com/-_sHw6yK6Xvg/AAAAAAAAAAI/AAAAAAAAAA4/_iHz8kp4O30/s50-c-k-no/photo.jpg",
      "userId": "118196225350065253664"
     },
     "user_tz": 300
    },
    "id": "OOwLco3KiERP",
    "outputId": "a02da0b2-25ad-4a16-a0d6-316a939cde38"
   },
   "outputs": [
    {
     "data": {
      "text/plain": [
       "<matplotlib.legend.Legend at 0x7f62489aa198>"
      ]
     },
     "execution_count": 25,
     "metadata": {
      "tags": []
     },
     "output_type": "execute_result"
    },
    {
     "data": {
      "image/png": "[encoded data removed]",
      "text/plain": [
       "<matplotlib.figure.Figure at 0x7f624854f6d8>"
      ]
     },
     "metadata": {
      "tags": []
     },
     "output_type": "display_data"
    }
   ],
   "source": [
    "# crea un objeto de la clase DecisionTreeClassifier\n",
    "clf = DecisionTreeClassifier()\n",
    "\n",
    "# define los porcentajes de los datos de entrenamiento a usar\n",
    "train_sizes = np.linspace(0.1, 1, 10) # crea un arreglo de 10 elementos entre 0.1 y 1\n",
    "\n",
    "train_sizes_abs, train_scores, val_scores = learning_curve(\n",
    "    clf,\n",
    "    X_train,\n",
    "    y_train,\n",
    "    train_sizes=train_sizes,\n",
    "    cv=10,\n",
    "    scoring='f1',\n",
    "    n_jobs=1\n",
    ")\n",
    "\n",
    "\n",
    "# completa el resto del código!!\n",
    "\n",
    "mean_train_scores = np.mean(train_scores, axis = 1)\n",
    "mean_val_scores = np.mean(val_scores, axis = 1)\n",
    "\n",
    "std_train_scores = np.std(train_scores, axis = 1)\n",
    "std_val_scores = np.std(val_scores, axis = 1)\n",
    "\n"
   ]
  },
  {
   "cell_type": "code",
   "execution_count": 0,
   "metadata": {
    "colab": {
     "autoexec": {
      "startup": false,
      "wait_interval": 0
     }
    },
    "colab_type": "code",
    "id": "NzOxnx1to0pX"
   },
   "outputs": [],
   "source": []
  }
 ],
 "metadata": {
  "colab": {
   "collapsed_sections": [],
   "default_view": {},
   "name": "validation_learning_curve_cv.ipynb",
   "provenance": [],
   "version": "0.3.2",
   "views": {}
  },
  "kernelspec": {
   "display_name": "Python 3",
   "language": "python",
   "name": "python3"
  },
  "language_info": {
   "codemirror_mode": {
    "name": "ipython",
    "version": 3
   },
   "file_extension": ".py",
   "mimetype": "text/x-python",
   "name": "python",
   "nbconvert_exporter": "python",
   "pygments_lexer": "ipython3",
   "version": "3.4.3"
  }
 },
 "nbformat": 4,
 "nbformat_minor": 1
}
